{
  "nbformat": 4,
  "nbformat_minor": 0,
  "metadata": {
    "colab": {
      "provenance": []
    },
    "kernelspec": {
      "name": "python3",
      "display_name": "Python 3"
    },
    "language_info": {
      "name": "python"
    }
  },
  "cells": [
    {
      "cell_type": "markdown",
      "source": [
        "## Machine Learning Lab Practical 1 - Basic Python (19/07/2024)\n",
        "\n",
        "ชื่อ นายฉัตรดนัย ปูทอง\n",
        "\n",
        "รหัสนักศึกษา 116510462029-9\n",
        "\n",
        "e-mail earthtyjoy11@gmail.com"
      ],
      "metadata": {
        "id": "O_h1lbU-AoGZ"
      }
    },
    {
      "cell_type": "markdown",
      "source": [
        "# Lab Practical Guideline"
      ],
      "metadata": {
        "id": "loxnsSMqCPT8"
      }
    },
    {
      "cell_type": "markdown",
      "source": [
        "\n",
        "**วัตถุประสงค์**\n",
        "\n",
        "1. เพื่อเรียนรู้การเขียนโปรแกรมภาษา Python เบื้องต้น\n",
        "2. เพื่อเรียนรู้การใช้งาน Numpy library\n",
        "3. สร้างความคุ้นเคยการเขียนโปรแกรมภาษา Python\n",
        "\n",
        "**ขั้นตอนการฝึกปฏิบัติการ**\n",
        "\n",
        "1. สร้างเอกสารบน colab และตั้งชื่อไฟล์เป็น 'mllab01-intro_pyhon.ipynb'\n",
        "2. สร้างหัวเอกสาร ใส่ชื่อ รหัส นศ. และ e-mail ของตนเอง โดยดูตามเอกสารตัวอย่างเพจนี้\n",
        "3. ศึกษาและทดลองการใช้งานภาษา Python เบื้องต้น และ Numpy ตามเอกสารตัวอย่างเพจนี้\n",
        "3. ศึกษาการการใช้งานภาษา Python และ Numpy จากเว็บไซต์ [w3Schools.com](https://www.w3schools.com/python/default.asp)\n",
        "\n",
        "**การส่งผลงาน**\n",
        "1. ให้ share เอกสารที่ นศ. ทำมายัง อาจารย์ผู้สอน และผู้ช่วยสอน e-mail jedsada.phengsuwan@gmail.com และ kititach.k@en.rmutt.ac.th  *โดยกำหนดสิทธิ์เป็น Commenter*  [ดูตัวอย่าง](https://raw.githubusercontent.com/phengsuwan/ML04622316/f9e6a12ea0521de9ee991aeb3813b306ae6c8013/figures/submit.png)\n",
        "2. เพิ่ม link ผลงานเข้าไปในหน้า Profile ของตนเอง\n",
        "3. กำหนดส่งภายใน วันพุธ 24/07/2024 23.59\n",
        "\n"
      ],
      "metadata": {
        "id": "B53tjGOSCXpl"
      }
    },
    {
      "cell_type": "markdown",
      "source": [
        "# 1. พื้นฐานภาษา Python"
      ],
      "metadata": {
        "id": "44MqajSQBUvr"
      }
    },
    {
      "cell_type": "markdown",
      "source": [
        "> 1.1 คำสั่งพื้นฐาน\n",
        "\n",
        "1.1.1 การแสดงข้อความ​ -- Python **คำสั่งแรกของฉัน**\n"
      ],
      "metadata": {
        "id": "9-CR-JW4EN3e"
      }
    },
    {
      "cell_type": "code",
      "source": [
        "print(\"Hello World\")"
      ],
      "metadata": {
        "id": "SB0Z7ynvBZ9S",
        "colab": {
          "base_uri": "https://localhost:8080/"
        },
        "outputId": "29af4b40-50e4-40d4-b758-9e30e1f7a642"
      },
      "execution_count": null,
      "outputs": [
        {
          "output_type": "stream",
          "name": "stdout",
          "text": [
            "Hello World\n"
          ]
        }
      ]
    },
    {
      "cell_type": "markdown",
      "source": [
        "1.1.2 การตรวจสอบเวอร์ชั่นของ Python\n",
        "\n",
        "\n",
        "*   สัหญลักษณ์ `#` ใช้ในการเขียน comment ใน code python\n",
        "*   `import` เป็นการเรียกใช้งาน library\n",
        "\n"
      ],
      "metadata": {
        "id": "-2K4S_52FDGE"
      }
    },
    {
      "cell_type": "code",
      "source": [
        "# เรียกใช้งาน library sys\n",
        "import sys\n",
        "print(sys.version)"
      ],
      "metadata": {
        "id": "6s00oudGFyph",
        "colab": {
          "base_uri": "https://localhost:8080/"
        },
        "outputId": "47c9afeb-eab2-4b8c-f875-6fbc9fcb0803"
      },
      "execution_count": null,
      "outputs": [
        {
          "output_type": "stream",
          "name": "stdout",
          "text": [
            "3.10.12 (main, Mar 22 2024, 16:50:05) [GCC 11.4.0]\n"
          ]
        }
      ]
    },
    {
      "cell_type": "markdown",
      "source": [
        "1.1.3 การประกาศตัวแปรและแสดงผลค่าตัวแปร  \n",
        "\n",
        "*   อ่านเพิ่มเติมเกี่ยวกับการใช้งานตัวแปร [link1](https://www.w3schools.com/python/python_variables.asp) และ [link2](https://www.w3schools.com/python/python_variables_output.asp)\n",
        "*   ประเภทของตัวแปรพื้นฐานในภาษา Python [link](https://www.w3schools.com/python/python_datatypes.asp)\n"
      ],
      "metadata": {
        "id": "InMclDMWJfkV"
      }
    },
    {
      "cell_type": "code",
      "source": [
        "x = 5\n",
        "y = \"John\"\n",
        "\n",
        "# แสดงข้อมูลในตัวแปร\n",
        "print(x)\n",
        "print(y)\n",
        "\n",
        "# แสดงประเภทของตัวแปร\n",
        "x = 1    # int\n",
        "y = 2.8  # float\n",
        "z = 1j   # complex\n",
        "print(type(x))\n",
        "print(type(y))\n",
        "print(type(z))\n"
      ],
      "metadata": {
        "id": "cL58AjRqJl0J",
        "colab": {
          "base_uri": "https://localhost:8080/"
        },
        "outputId": "87a15195-4b86-4881-a1e8-643bcc4d9f36"
      },
      "execution_count": null,
      "outputs": [
        {
          "output_type": "stream",
          "name": "stdout",
          "text": [
            "5\n",
            "John\n",
            "<class 'int'>\n",
            "<class 'float'>\n",
            "<class 'complex'>\n"
          ]
        }
      ]
    },
    {
      "cell_type": "markdown",
      "source": [
        "1.1.4 ตัวแปรประเภท string\n",
        "\n",
        "\n",
        "*   อ่านเพิ่มเติม [link](https://www.w3schools.com/python/python_strings.asp)\n",
        "*   รวม method การจัดการข้อมูล string [link](https://www.w3schools.com/python/python_strings_methods.asp)\n",
        "\n"
      ],
      "metadata": {
        "id": "QBQ6nZruNP7b"
      }
    },
    {
      "cell_type": "code",
      "source": [
        "b = \"Hello, World!\"\n",
        "print(b)\n",
        "print(b[2:5])\n",
        "print(b[2:])\n",
        "print(b[:5])\n"
      ],
      "metadata": {
        "id": "UOP--jUJNpeY",
        "colab": {
          "base_uri": "https://localhost:8080/"
        },
        "outputId": "0e773e4f-d974-46c3-8c37-6d0de1f38fbc"
      },
      "execution_count": null,
      "outputs": [
        {
          "output_type": "stream",
          "name": "stdout",
          "text": [
            "Hello, World!\n",
            "llo\n",
            "llo, World!\n",
            "Hello\n"
          ]
        }
      ]
    },
    {
      "cell_type": "markdown",
      "source": [
        "1.1.5 Python Operator [link](https://www.w3schools.com/python/python_operators.asp)"
      ],
      "metadata": {
        "id": "dvmqJHREOyNh"
      }
    },
    {
      "cell_type": "code",
      "source": [
        "a = 2+5*12-9/3\n",
        "b = (2+5)*((12-9)/3)\n",
        "print(a)\n",
        "print(b)"
      ],
      "metadata": {
        "id": "H1jJ_JkFPBZa",
        "colab": {
          "base_uri": "https://localhost:8080/"
        },
        "outputId": "39d55a77-d406-43cb-adfa-36a8d66c15ab"
      },
      "execution_count": null,
      "outputs": [
        {
          "output_type": "stream",
          "name": "stdout",
          "text": [
            "59.0\n",
            "7.0\n"
          ]
        }
      ]
    },
    {
      "cell_type": "markdown",
      "source": [
        "> 1.2 Data Structure: List, และ Dictionaries\n",
        "\n",
        "\n",
        "*   เรียนรู้การเก็บข้อมูลเพิ่มเติม รวมถึงโครงสร้างแบบอื่นๆ ได้จาก [List](https://www.w3schools.com/python/python_lists.asp), [Tuple](https://www.w3schools.com/python/python_tuples.asp), [Set](https://www.w3schools.com/python/python_sets.asp), และ [Dictionaries](https://www.w3schools.com/python/python_dictionaries.asp)\n",
        "\n"
      ],
      "metadata": {
        "id": "jFgzsZZVP4nS"
      }
    },
    {
      "cell_type": "markdown",
      "source": [
        "1.2.1 การใช้งาน List เบื้องต้น\n",
        "\n",
        "วัตถุประสงค์หลัก -- เพื่อเก็บค่าข้อมูลหรือตัวแปรหลายๆ ตัว ในรูปแบบ array"
      ],
      "metadata": {
        "id": "U_eOth7hWP7X"
      }
    },
    {
      "cell_type": "code",
      "source": [
        "# code ตัวอย่างการประการตัวแปร List และการเข้าถึงค่าข้อมูลมายใน List\n",
        "fruits = [\"apple\", \"banana\", \"cherry\", \"orange\", \"kiwi\", \"melon\", \"mango\"]\n",
        "print(fruits)\n",
        "print(fruits[1])\n",
        "print(fruits[-1])\n",
        "print(fruits[-2])\n",
        "print(fruits[2:5])\n",
        "print(fruits[2:])\n",
        "print(fruits[:5])"
      ],
      "metadata": {
        "id": "wqGQD38jWwi-",
        "colab": {
          "base_uri": "https://localhost:8080/"
        },
        "outputId": "f2c12ad1-2f26-43e4-e735-62813512fc68"
      },
      "execution_count": null,
      "outputs": [
        {
          "output_type": "stream",
          "name": "stdout",
          "text": [
            "['apple', 'banana', 'cherry', 'orange', 'kiwi', 'melon', 'mango']\n",
            "banana\n",
            "mango\n",
            "melon\n",
            "['cherry', 'orange', 'kiwi']\n",
            "['cherry', 'orange', 'kiwi', 'melon', 'mango']\n",
            "['apple', 'banana', 'cherry', 'orange', 'kiwi']\n"
          ]
        }
      ]
    },
    {
      "cell_type": "markdown",
      "source": [
        "1.2.2 การวนลูปแสดงค่าใน List"
      ],
      "metadata": {
        "id": "888s5Xd0X9wd"
      }
    },
    {
      "cell_type": "code",
      "source": [
        "thislist = [\"apple\", \"banana\", \"cherry\"]\n",
        "for x in thislist:\n",
        "  print(x)"
      ],
      "metadata": {
        "id": "gyqfINEpYDzk",
        "colab": {
          "base_uri": "https://localhost:8080/"
        },
        "outputId": "5ef4ab45-7265-48a8-cd32-cf2c38692f2f"
      },
      "execution_count": null,
      "outputs": [
        {
          "output_type": "stream",
          "name": "stdout",
          "text": [
            "apple\n",
            "banana\n",
            "cherry\n"
          ]
        }
      ]
    },
    {
      "cell_type": "markdown",
      "source": [
        "1.2.3 การเปรียบเทียบค่าในตัวแปร List\n",
        "\n",
        "\n",
        "*   ให้ นศ. ดูและเปรียบเทียบวิธีการวนลูป\n",
        "\n"
      ],
      "metadata": {
        "id": "kbk50iWsYbhr"
      }
    },
    {
      "cell_type": "code",
      "source": [
        "# ตัวอย่างการเปรียบเทียบแบบที่ 1\n",
        "fruits = [\"apple\", \"banana\", \"cherry\", \"kiwi\", \"mango\"]\n",
        "newlist = []\n",
        "\n",
        "for x in fruits:\n",
        "  if \"a\" in x:        # ตรวจสอบว่า string ในตัวแปร x มีตัวอักษร 'a' อยู่หรือไม่\n",
        "    newlist.append(x) # หากเป็นจริงให้เพิ่มค่าใน ตัวแปร x ลงใน newlist\n",
        "\n",
        "print(newlist)\n",
        "\n",
        "# ตัวอย่างการเปรียบเทียบแบบที่ 2 ** การเขียน code แบบย่อ\n",
        "fruits = [\"apple\", \"banana\", \"cherry\", \"kiwi\", \"mango\"]\n",
        "\n",
        "newlist = [x for x in fruits if \"a\" in x]\n",
        "\n",
        "print(newlist)"
      ],
      "metadata": {
        "id": "WElBl9BeYk58",
        "colab": {
          "base_uri": "https://localhost:8080/"
        },
        "outputId": "2d48c4e6-68a8-47df-b955-88a3afe3469f"
      },
      "execution_count": null,
      "outputs": [
        {
          "output_type": "stream",
          "name": "stdout",
          "text": [
            "['apple', 'banana', 'mango']\n",
            "['apple', 'banana', 'mango']\n"
          ]
        }
      ]
    },
    {
      "cell_type": "markdown",
      "source": [
        "1.2.4 Dictionaries ใช้สำหรับการเก็บข้อมูลในรูปแบบ key-value pairs [link](https://www.w3schools.com/python/python_dictionaries.asp)"
      ],
      "metadata": {
        "id": "zB_CSNeDZVve"
      }
    },
    {
      "cell_type": "code",
      "source": [
        "thisdict = {\n",
        "  \"brand\": \"Ford\",\n",
        "  \"model\": \"Mustang\",\n",
        "  \"year\": 1964\n",
        "}\n",
        "print(thisdict)\n",
        "print(thisdict[\"brand\"])\n",
        "\n",
        "# การเข้าถึง keys\n",
        "keys = thisdict.keys()\n",
        "print(f\"keys - {keys}\")\n",
        "\n",
        "# การเปลี่ยนแปลงค่าในคัวแปร\n",
        "thisdict[\"year\"] = 2018\n",
        "print(thisdict)\n",
        "\n",
        "thisdict.update({\"year\": 2020})\n",
        "print(thisdict)\n"
      ],
      "metadata": {
        "id": "wPOBTSSpZngD",
        "colab": {
          "base_uri": "https://localhost:8080/"
        },
        "outputId": "6087433c-111c-42d4-9116-40431dff4ea8"
      },
      "execution_count": null,
      "outputs": [
        {
          "output_type": "stream",
          "name": "stdout",
          "text": [
            "{'brand': 'Ford', 'model': 'Mustang', 'year': 1964}\n",
            "Ford\n",
            "keys - dict_keys(['brand', 'model', 'year'])\n",
            "{'brand': 'Ford', 'model': 'Mustang', 'year': 2018}\n",
            "{'brand': 'Ford', 'model': 'Mustang', 'year': 2020}\n"
          ]
        }
      ]
    },
    {
      "cell_type": "markdown",
      "source": [
        "> 1.3 การตรวจสอบเงื่อนไขและการวนลูป\n",
        "\n",
        "\n",
        "*   เรียนรู้การใช้ If...Else\n",
        "*   เรียนรู้การวนลูป For\n",
        "\n",
        "\n"
      ],
      "metadata": {
        "id": "fLK5M3ZebvOB"
      }
    },
    {
      "cell_type": "markdown",
      "source": [
        "1.3.1 การใช้งาน If...Else [link](https://www.w3schools.com/python/python_conditions.asp)\n",
        "\n",
        "\n",
        "*   ให้ นศ. ทดลองเปลี่ยนค่าตัวแปร และรันใหม่\n",
        "\n"
      ],
      "metadata": {
        "id": "eZ-Dws1QcGr2"
      }
    },
    {
      "cell_type": "code",
      "source": [
        "# รูปแบบ if เบื้องต้น (ไม่มี else)\n",
        "a = 50\n",
        "b = 300\n",
        "if b > a:\n",
        "  print(\"b is greater than a\")\n",
        "\n",
        "\n",
        "# รูปแบบ if...else แบบสมบูรณ์\n",
        "a = 300\n",
        "b = 50\n",
        "if b > a:\n",
        "  print(\"b is greater than a\")\n",
        "elif a == b:\n",
        "  print(\"a and b are equal\")\n",
        "else:\n",
        "  print(\"a is greater than b\")"
      ],
      "metadata": {
        "id": "8t02zdAncPRR",
        "colab": {
          "base_uri": "https://localhost:8080/"
        },
        "outputId": "bb2a2005-52db-430d-fb54-538adc2ce391"
      },
      "execution_count": null,
      "outputs": [
        {
          "output_type": "stream",
          "name": "stdout",
          "text": [
            "b is greater than a\n",
            "a is greater than b\n"
          ]
        }
      ]
    },
    {
      "cell_type": "markdown",
      "source": [
        "1.3.2 การใช้งานลูป For [link](https://www.w3schools.com/python/python_for_loops.asp)\n",
        "\n",
        "*   ให้ นศ. ทดลองรันและสังเกตุผลลัพท์\n",
        "\n"
      ],
      "metadata": {
        "id": "kkfV8Q_qcPyO"
      }
    },
    {
      "cell_type": "code",
      "source": [
        "for x in \"banana\":\n",
        "  print(x)"
      ],
      "metadata": {
        "id": "IaX_oRkQcchy",
        "colab": {
          "base_uri": "https://localhost:8080/"
        },
        "outputId": "2751ff3d-5135-4326-cdb7-e31d679705d8"
      },
      "execution_count": null,
      "outputs": [
        {
          "output_type": "stream",
          "name": "stdout",
          "text": [
            "b\n",
            "a\n",
            "n\n",
            "a\n",
            "n\n",
            "a\n"
          ]
        }
      ]
    },
    {
      "cell_type": "code",
      "source": [
        "# ตัวอย่างการใช้ range\n",
        "for x in range(6):\n",
        "  print(x)"
      ],
      "metadata": {
        "id": "tsGqW8qwebKD",
        "colab": {
          "base_uri": "https://localhost:8080/"
        },
        "outputId": "55de0ccd-5933-4141-b3b8-d2e9244a9dce"
      },
      "execution_count": null,
      "outputs": [
        {
          "output_type": "stream",
          "name": "stdout",
          "text": [
            "0\n",
            "1\n",
            "2\n",
            "3\n",
            "4\n",
            "5\n"
          ]
        }
      ]
    },
    {
      "cell_type": "code",
      "source": [
        "# ตัวอย่างการใช้ range\n",
        "for x in range(2, 6):\n",
        "  print(x)"
      ],
      "metadata": {
        "id": "wYdwwziXegzG",
        "colab": {
          "base_uri": "https://localhost:8080/"
        },
        "outputId": "dd3fb439-8a3d-4d68-ab98-92c4f5059555"
      },
      "execution_count": null,
      "outputs": [
        {
          "output_type": "stream",
          "name": "stdout",
          "text": [
            "2\n",
            "3\n",
            "4\n",
            "5\n"
          ]
        }
      ]
    },
    {
      "cell_type": "markdown",
      "source": [
        "> 1.4 ศึกษาเพิ่มเติม\n",
        "\n",
        "*   ให้ นศ. เขียนตัวอย่าง code ที่ศึกษาด้วยตัวเองเพิ่มเติม อย่างน้อย 5 ตัวอย่าง\n",
        "\n"
      ],
      "metadata": {
        "id": "MVk77ofQ3xF8"
      }
    },
    {
      "cell_type": "markdown",
      "source": [
        "1.4.1 ตัวอย่างที่ 1 if... [เรียนรู้จาก](https://www.w3schools.com/python/python_conditions.asp)"
      ],
      "metadata": {
        "id": "-1E5pUqk4FjS"
      }
    },
    {
      "cell_type": "code",
      "source": [
        "# ใส่ตัวอย่าง code ที่ได้เรียนรู้\n",
        "a = 33\n",
        "b = 200\n",
        "if b > a:\n",
        "  print(\"b is greater than a\")"
      ],
      "metadata": {
        "id": "RghqxTAC5JGd",
        "colab": {
          "base_uri": "https://localhost:8080/"
        },
        "outputId": "fb3fa5e5-7a9b-4ad4-86c3-3dd6ec140d94"
      },
      "execution_count": null,
      "outputs": [
        {
          "output_type": "stream",
          "name": "stdout",
          "text": [
            "b is greater than a\n"
          ]
        }
      ]
    },
    {
      "cell_type": "markdown",
      "source": [
        "1.4.2 ตัวอย่างที่ 2 Elif [เรียนรู้จาก](<https://www.w3schools.com/python/python_conditions.asp>)"
      ],
      "metadata": {
        "id": "0BhuQlKv43UF"
      }
    },
    {
      "cell_type": "code",
      "source": [
        "# ใส่ตัวอย่าง code ที่ได้เรียนรู้\n",
        "a = 33\n",
        "b = 33\n",
        "if b > a:\n",
        "  print(\"b is greater than a\")\n",
        "elif a == b:\n",
        "  print(\"a and b are equal\")"
      ],
      "metadata": {
        "id": "uHDj0Dws5Sc-",
        "colab": {
          "base_uri": "https://localhost:8080/"
        },
        "outputId": "d00f4ee8-aaf2-4d4a-d4f4-c0cb34edba5e"
      },
      "execution_count": null,
      "outputs": [
        {
          "output_type": "stream",
          "name": "stdout",
          "text": [
            "a and b are equal\n"
          ]
        }
      ]
    },
    {
      "cell_type": "markdown",
      "source": [
        "1.4.3 ตัวอย่างที่ 3 Else [เรียนรู้จาก](<https://www.w3schools.com/python/python_conditions.asp>)"
      ],
      "metadata": {
        "id": "EI0h95Vb46ZT"
      }
    },
    {
      "cell_type": "code",
      "source": [
        "# ใส่ตัวอย่าง code ที่ได้เรียนรู้\n",
        "a = 200\n",
        "b = 33\n",
        "if b > a:\n",
        "  print(\"b is greater than a\")\n",
        "elif a == b:\n",
        "  print(\"a and b are equal\")\n",
        "else:\n",
        "  print(\"a is greater than b\")"
      ],
      "metadata": {
        "id": "LVg60ClE5Tmo",
        "colab": {
          "base_uri": "https://localhost:8080/"
        },
        "outputId": "2e00e791-dd31-46a8-85e7-b09dd11faf0e"
      },
      "execution_count": null,
      "outputs": [
        {
          "output_type": "stream",
          "name": "stdout",
          "text": [
            "a is greater than b\n"
          ]
        }
      ]
    },
    {
      "cell_type": "markdown",
      "source": [
        "1.4.4 ตัวอย่างที่ 4 Short Hand If [เรียนรู้จาก](<https://www.w3schools.com/python/python_conditions.asp>)"
      ],
      "metadata": {
        "id": "bKyo8ERr49Tp"
      }
    },
    {
      "cell_type": "code",
      "source": [
        "# ใส่ตัวอย่าง code ที่ได้เรียนรู้\n",
        "if a > b: print(\"a is greater than b\")"
      ],
      "metadata": {
        "id": "MMQFc-jP5UTE",
        "colab": {
          "base_uri": "https://localhost:8080/"
        },
        "outputId": "e0c72f5d-6243-4894-bceb-d83d4e54b400"
      },
      "execution_count": null,
      "outputs": [
        {
          "output_type": "stream",
          "name": "stdout",
          "text": [
            "a is greater than b\n"
          ]
        }
      ]
    },
    {
      "cell_type": "markdown",
      "source": [
        "1.4.5 ตัวอย่างที่ 5 Short Hand If ... Else [เรียนรู้จาก](<https://www.w3schools.com/python/python_conditions.asp>)"
      ],
      "metadata": {
        "id": "Gw1valiH5FOj"
      }
    },
    {
      "cell_type": "code",
      "source": [
        "# ใส่ตัวอย่าง code ที่ได้เรียนรู้\n",
        "a = 2\n",
        "b = 330\n",
        "print(\"A\") if a > b else print(\"B\")"
      ],
      "metadata": {
        "id": "PM-Hftko5U9-",
        "colab": {
          "base_uri": "https://localhost:8080/"
        },
        "outputId": "b3043614-0c12-4abf-9ea5-dc8fb42e83bf"
      },
      "execution_count": null,
      "outputs": [
        {
          "output_type": "stream",
          "name": "stdout",
          "text": [
            "B\n"
          ]
        }
      ]
    },
    {
      "cell_type": "markdown",
      "source": [
        "# 2. การใช้งาน Numpy เบื้องต้น\n",
        "\n",
        "*   [Numpy](https://www.w3schools.com/python/numpy/default.asp) เป็น Python library สำหรับการจัดการ array และการคำนวณคณิตศาสตร์\n",
        "*   Numpy มีการจัดการ array และกลไกที่เรียกว่า vectorisztions ที่มีการใช้งาน hardware ของเครื่องเพื่อเพิ่มประสิทธิภาพในการคำนวณ Array ที่มีขนาดใหญ่ๆ\n",
        "\n"
      ],
      "metadata": {
        "id": "qDCoNSXNBbrR"
      }
    },
    {
      "cell_type": "code",
      "source": [
        "import numpy as np\n",
        "import time\n",
        "from numpy import random\n"
      ],
      "metadata": {
        "id": "onNSB1C6ksSV"
      },
      "execution_count": null,
      "outputs": []
    },
    {
      "cell_type": "markdown",
      "source": [
        "> 2.1 การสร้าง Vector ด้วย Numpy\n",
        "\n",
        "\n",
        "*   ศึกษาการสร้าง Vector ด้วย methods ต่างๆ ของ Numpy\n"
      ],
      "metadata": {
        "id": "d0kc2FQWmNVN"
      }
    },
    {
      "cell_type": "markdown",
      "source": [
        "2.1.1 สร้าง vector 1 มิติที่มีขนาด 5 ตัว"
      ],
      "metadata": {
        "id": "aogjlwVcn5wH"
      }
    },
    {
      "cell_type": "code",
      "source": [
        "x=random.randint(100, size=(5))\n",
        "print(x)"
      ],
      "metadata": {
        "id": "7Wm8KKcgoNJr",
        "colab": {
          "base_uri": "https://localhost:8080/"
        },
        "outputId": "92fad38a-da11-4037-878f-18a55388ff10"
      },
      "execution_count": null,
      "outputs": [
        {
          "output_type": "stream",
          "name": "stdout",
          "text": [
            "[92 73 83  8 46]\n"
          ]
        }
      ]
    },
    {
      "cell_type": "markdown",
      "source": [
        "2.1.2 การสร้าง vector 2 มิติ"
      ],
      "metadata": {
        "id": "kyjeXyoJrztd"
      }
    },
    {
      "cell_type": "code",
      "source": [
        "# สร้าง vector 2 มิติ ขนาด 3 (rows) x5 (columns)\n",
        "x = random.randint(100, size=(3, 5))\n",
        "print(x)\n",
        "\n",
        "# แสดงขนาดของ Array\n",
        "print(x.shape)"
      ],
      "metadata": {
        "id": "KMzpmo66nx6o",
        "colab": {
          "base_uri": "https://localhost:8080/"
        },
        "outputId": "84b22544-deab-4ec2-89d5-6619c123359c"
      },
      "execution_count": null,
      "outputs": [
        {
          "output_type": "stream",
          "name": "stdout",
          "text": [
            "[[94  8 91 62 11]\n",
            " [ 0 49 18 93 46]\n",
            " [50 13 19 51 25]]\n",
            "(3, 5)\n"
          ]
        }
      ]
    },
    {
      "cell_type": "markdown",
      "source": [
        "2.1.3 ตัวอย่างการสร้าง Vector ด้วยฟังก์ชันอื่นๆ ของ Numpy"
      ],
      "metadata": {
        "id": "yji2QYtC15oP"
      }
    },
    {
      "cell_type": "code",
      "source": [
        "# NumPy routines which allocate memory and fill arrays with value\n",
        "a = np.zeros(4);\n",
        "print(f\"np.zeros(4) :   a = {a}, a shape = {a.shape}, a data type = {a.dtype}\")\n",
        "\n",
        "a = np.zeros((4,3));\n",
        "print(f\"np.zeros(4,3) :  a = {a}, a shape = {a.shape}, a data type = {a.dtype}\")\n",
        "\n",
        "a = np.random.random_sample(4);\n",
        "print(f\"np.random.random_sample(4): a = {a}, a shape = {a.shape}, a data type = {a.dtype}\")\n",
        "\n",
        "# NumPy routines which allocate memory and fill arrays with value but do not accept shape as input argument\n",
        "a = np.arange(4.);\n",
        "print(f\"np.arange(4.):     a = {a}, a shape = {a.shape}, a data type = {a.dtype}\")\n",
        "\n",
        "a = np.random.rand(4);\n",
        "print(f\"np.random.rand(4): a = {a}, a shape = {a.shape}, a data type = {a.dtype}\")"
      ],
      "metadata": {
        "id": "wFvjRRNU1__D",
        "colab": {
          "base_uri": "https://localhost:8080/"
        },
        "outputId": "d76970e6-84ca-451d-a34b-af354960c5e5"
      },
      "execution_count": null,
      "outputs": [
        {
          "output_type": "stream",
          "name": "stdout",
          "text": [
            "np.zeros(4) :   a = [0. 0. 0. 0.], a shape = (4,), a data type = float64\n",
            "np.zeros(4,3) :  a = [[0. 0. 0.]\n",
            " [0. 0. 0.]\n",
            " [0. 0. 0.]\n",
            " [0. 0. 0.]], a shape = (4, 3), a data type = float64\n",
            "np.random.random_sample(4): a = [0.22710296 0.99634835 0.69254528 0.57940732], a shape = (4,), a data type = float64\n",
            "np.arange(4.):     a = [0. 1. 2. 3.], a shape = (4,), a data type = float64\n",
            "np.random.rand(4): a = [0.11381421 0.38875832 0.1260008  0.38809228], a shape = (4,), a data type = float64\n"
          ]
        }
      ]
    },
    {
      "cell_type": "markdown",
      "source": [
        "> 2.2 Numpy Operations"
      ],
      "metadata": {
        "id": "nIdkR2bAuuW3"
      }
    },
    {
      "cell_type": "markdown",
      "source": [
        "2.2.1 scalar + vector"
      ],
      "metadata": {
        "id": "r1JBk8XEuzW9"
      }
    },
    {
      "cell_type": "code",
      "source": [
        "x = np.array([1, 2, 3, 4, 5, 6, 7, 8, 9])\n",
        "c = 2\n",
        "y = x + c\n",
        "print(f\"{x} + {c} = {y}\")"
      ],
      "metadata": {
        "id": "6d7Oj6--w6KN",
        "colab": {
          "base_uri": "https://localhost:8080/"
        },
        "outputId": "09be2622-a0aa-4555-ef63-062ec2f4cbf8"
      },
      "execution_count": null,
      "outputs": [
        {
          "output_type": "stream",
          "name": "stdout",
          "text": [
            "[1 2 3 4 5 6 7 8 9] + 2 = [ 3  4  5  6  7  8  9 10 11]\n"
          ]
        }
      ]
    },
    {
      "cell_type": "markdown",
      "source": [
        "2.2.2 Scalar + matrix"
      ],
      "metadata": {
        "id": "fzGy1LbuxnvD"
      }
    },
    {
      "cell_type": "code",
      "source": [
        "X = np.array([[12, 76, 79, 80, 81],\n",
        "            [81, 96, 3, 63, 17],\n",
        "            [59,  6,  1, 24, 18]])\n",
        "c = 2\n",
        "Y = X + c\n",
        "print(Y)"
      ],
      "metadata": {
        "id": "MK9CIJoNyD0D",
        "colab": {
          "base_uri": "https://localhost:8080/"
        },
        "outputId": "502715e3-aead-48cb-f63a-2aa13ca22531"
      },
      "execution_count": null,
      "outputs": [
        {
          "output_type": "stream",
          "name": "stdout",
          "text": [
            "[[14 78 81 82 83]\n",
            " [83 98  5 65 19]\n",
            " [61  8  3 26 20]]\n"
          ]
        }
      ]
    },
    {
      "cell_type": "markdown",
      "source": [
        "2.2.3 vector + vector"
      ],
      "metadata": {
        "id": "7VI7Mt9iziv5"
      }
    },
    {
      "cell_type": "code",
      "source": [
        "x1 = np.array([1, 2, 3, 4, 5, 6, 7, 8, 9, 10])\n",
        "x2 = np.array([1, 1, 1, 1, 1, 2, 2, 2, 2, 2])\n",
        "y = x1 + x2\n",
        "print(y)"
      ],
      "metadata": {
        "id": "Htf6fDqr0EoO",
        "colab": {
          "base_uri": "https://localhost:8080/"
        },
        "outputId": "7fa22abc-7013-429d-e1ed-3ba31537200c"
      },
      "execution_count": null,
      "outputs": [
        {
          "output_type": "stream",
          "name": "stdout",
          "text": [
            "[ 2  3  4  5  6  8  9 10 11 12]\n"
          ]
        }
      ]
    },
    {
      "cell_type": "markdown",
      "source": [
        "2.2.4 Vector + matrix"
      ],
      "metadata": {
        "id": "DbBsKRna0ZkV"
      }
    },
    {
      "cell_type": "code",
      "source": [
        "X = np.array([[1, 2, 3, 4],\n",
        "              [5, 6, 7, 8],\n",
        "              [9, 10, 11, 12]])\n",
        "v = np.array([1, 2, 3, 4])\n",
        "\n",
        "Y = X + v\n",
        "print(Y)"
      ],
      "metadata": {
        "id": "Bvmaeg4y0dVM",
        "colab": {
          "base_uri": "https://localhost:8080/"
        },
        "outputId": "a8929e29-93d6-4270-f2fe-a32eae313d17"
      },
      "execution_count": null,
      "outputs": [
        {
          "output_type": "stream",
          "name": "stdout",
          "text": [
            "[[ 2  4  6  8]\n",
            " [ 6  8 10 12]\n",
            " [10 12 14 16]]\n"
          ]
        }
      ]
    },
    {
      "cell_type": "markdown",
      "source": [
        "2.2.5 Matrix + Metrix"
      ],
      "metadata": {
        "id": "KTEG0Rp409-g"
      }
    },
    {
      "cell_type": "code",
      "source": [
        "X1 = np.array([[1, 2, 3, 4],\n",
        "              [5, 6, 7, 8],\n",
        "              [9, 10, 11, 12]])\n",
        "X2 = np.array([[1, 1, 1, 1],\n",
        "              [2, 2, 2, 2],\n",
        "              [3, 3, 3, 3]])\n",
        "Y = X1 + X2\n",
        "print(Y)\n"
      ],
      "metadata": {
        "id": "sBi7-IIV1CiP",
        "colab": {
          "base_uri": "https://localhost:8080/"
        },
        "outputId": "0e0e123b-8b99-474c-97e2-6870df420cee"
      },
      "execution_count": null,
      "outputs": [
        {
          "output_type": "stream",
          "name": "stdout",
          "text": [
            "[[ 2  3  4  5]\n",
            " [ 7  8  9 10]\n",
            " [12 13 14 15]]\n"
          ]
        }
      ]
    },
    {
      "cell_type": "markdown",
      "source": [
        "2.2.6 การเขียนโปรแกรมคำนวณ Dot Products"
      ],
      "metadata": {
        "id": "tEwdo6-21Vgh"
      }
    },
    {
      "cell_type": "code",
      "source": [
        "a = np.array([1, 2, 3, 4, 5, 6, 7, 8, 9, 10])\n",
        "b = np.array([1, 1, 1, 1, 1, 2, 2, 2, 2, 2])\n",
        "x = 0\n",
        "for i in range(a.shape[0]):\n",
        "  x = x + a[i] * b[i]\n",
        "\n",
        "print(f\"dot product = {x}\")"
      ],
      "metadata": {
        "id": "WfUQt9r-2jpO",
        "colab": {
          "base_uri": "https://localhost:8080/"
        },
        "outputId": "1e8d8f56-a544-460f-b51a-46e8de752d7d"
      },
      "execution_count": null,
      "outputs": [
        {
          "output_type": "stream",
          "name": "stdout",
          "text": [
            "dot product = 95\n"
          ]
        }
      ]
    },
    {
      "cell_type": "markdown",
      "source": [
        "2.2.7 การใช้ฟังก์ชั่น np.dot เพื่อคำนวณ Dot Products"
      ],
      "metadata": {
        "id": "oXJ5X8Ei1fUz"
      }
    },
    {
      "cell_type": "code",
      "source": [
        "a = np.array([1, 2, 3, 4, 5, 6, 7, 8, 9, 10])\n",
        "b = np.array([1, 1, 1, 1, 1, 2, 2, 2, 2, 2])\n",
        "\n",
        "x = np.dot(a, b)\n",
        "\n",
        "print(f\"dot product = {x}\")\n"
      ],
      "metadata": {
        "id": "Fwz6LMkV3JL9",
        "colab": {
          "base_uri": "https://localhost:8080/"
        },
        "outputId": "4a766618-78dd-453d-8070-c58b55d87a5a"
      },
      "execution_count": null,
      "outputs": [
        {
          "output_type": "stream",
          "name": "stdout",
          "text": [
            "dot product = 95\n"
          ]
        }
      ]
    },
    {
      "cell_type": "markdown",
      "source": [
        "2.2.8 การเรียบเทียบการคำนวณ dot product ด้วยวิธีธรรมดา และการใช้ Numpy"
      ],
      "metadata": {
        "id": "bJK1ui5SlJpb"
      }
    },
    {
      "cell_type": "markdown",
      "source": [
        "a. สร้าง function การคำนวณ dot product ด้วยวิธีทั่วไป"
      ],
      "metadata": {
        "id": "gUYclo7Dlju5"
      }
    },
    {
      "cell_type": "code",
      "source": [
        "def my_dot(a, b):\n",
        "    \"\"\"\n",
        "   Compute the dot product of two vectors\n",
        "\n",
        "    Args:\n",
        "      a (ndarray (n,)):  input vector\n",
        "      b (ndarray (n,)):  input vector with same dimension as a\n",
        "\n",
        "    Returns:\n",
        "      x (scalar):\n",
        "    \"\"\"\n",
        "    x=0\n",
        "    for i in range(a.shape[0]):\n",
        "        x = x + a[i] * b[i]\n",
        "    return x"
      ],
      "metadata": {
        "id": "f9QS2FrrlT7I"
      },
      "execution_count": null,
      "outputs": []
    },
    {
      "cell_type": "markdown",
      "source": [
        "b. เปรียบเทียบเวลาในการคำนวณ"
      ],
      "metadata": {
        "id": "XRyW_Pyxlo1C"
      }
    },
    {
      "cell_type": "code",
      "source": [
        "\n",
        "np.random.seed(1)\n",
        "a = np.random.rand(10000000)  # very large arrays\n",
        "b = np.random.rand(10000000)\n",
        "\n",
        "tic = time.time()  # capture start time\n",
        "c = np.dot(a, b)\n",
        "toc = time.time()  # capture end time\n",
        "\n",
        "print(f\"np.dot(a, b) =  {c:.4f}\")\n",
        "print(f\"Vectorized version duration: {1000*(toc-tic):.4f} ms \")\n",
        "\n",
        "tic = time.time()  # capture start time\n",
        "c = my_dot(a,b)\n",
        "toc = time.time()  # capture end time\n",
        "\n",
        "print(f\"my_dot(a, b) =  {c:.4f}\")\n",
        "print(f\"loop version duration: {1000*(toc-tic):.4f} ms \")\n",
        "\n",
        "del(a);del(b)  #remove these big arrays from memory"
      ],
      "metadata": {
        "id": "fkVeszXMBhoL",
        "colab": {
          "base_uri": "https://localhost:8080/"
        },
        "outputId": "9e62b345-78f5-4a3b-d48a-9071e2abfe55"
      },
      "execution_count": null,
      "outputs": [
        {
          "output_type": "stream",
          "name": "stdout",
          "text": [
            "np.dot(a, b) =  2501072.5817\n",
            "Vectorized version duration: 18.0275 ms \n",
            "my_dot(a, b) =  2501072.5817\n",
            "loop version duration: 3810.0035 ms \n"
          ]
        }
      ]
    },
    {
      "cell_type": "markdown",
      "source": [
        "> 2.3 ศึกษาเพิ่มเติม Numpy\n",
        "\n",
        "*   ให้ นศ. เขียนตัวอย่าง code ที่ศึกษาด้วยตัวเองเพิ่มเติม อย่างน้อย 5 ตัวอย่าง\n",
        "\n"
      ],
      "metadata": {
        "id": "6Kep77td5dxk"
      }
    },
    {
      "cell_type": "markdown",
      "source": [
        "2.3.1 ตัวอย่างที่ 1 Import NumPy [เรียนรู้จาก](<https://www.w3schools.com/python/numpy/numpy_getting_started.asp>)"
      ],
      "metadata": {
        "id": "GtThWvfG6In5"
      }
    },
    {
      "cell_type": "code",
      "source": [
        "# ใส่ตัวอย่าง code ที่ได้เรียนรู้\n",
        "import numpy\n",
        "\n",
        "arr = numpy.array([1, 2, 3, 4, 5])\n",
        "\n",
        "print(arr)"
      ],
      "metadata": {
        "id": "-6cdkJo36byS",
        "colab": {
          "base_uri": "https://localhost:8080/"
        },
        "outputId": "6b34fbe8-c3ae-4847-9ef0-02d37d5e7f66"
      },
      "execution_count": null,
      "outputs": [
        {
          "output_type": "stream",
          "name": "stdout",
          "text": [
            "[1 2 3 4 5]\n"
          ]
        }
      ]
    },
    {
      "cell_type": "markdown",
      "source": [
        "2.3.2 ตัวอย่างที่ 2 NumPy as np [เรียนรู้จาก](<https://www.w3schools.com/python/numpy/numpy_getting_started.asp>)"
      ],
      "metadata": {
        "id": "HRtbPych6LwD"
      }
    },
    {
      "cell_type": "code",
      "source": [
        "# ใส่ตัวอย่าง code ที่ได้เรียนรู้\n",
        "import numpy as np\n",
        "\n",
        "arr = np.array([1, 2, 3, 4, 5])\n",
        "\n",
        "print(arr)"
      ],
      "metadata": {
        "id": "wGtca83w6gwB",
        "colab": {
          "base_uri": "https://localhost:8080/"
        },
        "outputId": "12f6d9ad-cc7b-44b4-e876-fb397f76d101"
      },
      "execution_count": null,
      "outputs": [
        {
          "output_type": "stream",
          "name": "stdout",
          "text": [
            "[1 2 3 4 5]\n"
          ]
        }
      ]
    },
    {
      "cell_type": "markdown",
      "source": [
        "2.3.3 ตัวอย่างที่ 3 Checking NumPy Version [เรียนรู้จาก](<https://www.w3schools.com/python/numpy/numpy_getting_started.asp>)"
      ],
      "metadata": {
        "id": "2Sql3vTU6MOh"
      }
    },
    {
      "cell_type": "code",
      "source": [
        "# ใส่ตัวอย่าง code ที่ได้เรียนรู้\n",
        "import numpy as np\n",
        "\n",
        "print(np.__version__)"
      ],
      "metadata": {
        "id": "16Xkfx-p6hg0",
        "colab": {
          "base_uri": "https://localhost:8080/"
        },
        "outputId": "da8bd8a7-2c0b-456f-8ca3-0ce6433835c3"
      },
      "execution_count": null,
      "outputs": [
        {
          "output_type": "stream",
          "name": "stdout",
          "text": [
            "1.25.2\n"
          ]
        }
      ]
    },
    {
      "cell_type": "markdown",
      "source": [
        "2.3.4 ตัวอย่างที่ 4 Checking the Data Type of an Array [เรียนรู้จาก](<https://www.w3schools.com/python/numpy/numpy_data_types.asp>)"
      ],
      "metadata": {
        "id": "1GJZDPsK6M-n"
      }
    },
    {
      "cell_type": "code",
      "source": [
        "# ใส่ตัวอย่าง code ที่ได้เรียนรู้\n",
        "import numpy as np\n",
        "\n",
        "arr = np.array([1, 2, 3, 4])\n",
        "\n",
        "print(arr.dtype)"
      ],
      "metadata": {
        "id": "H5Yz9Mn76iTZ",
        "colab": {
          "base_uri": "https://localhost:8080/"
        },
        "outputId": "97d5c0c0-44e6-4472-8542-97bb70d87d15"
      },
      "execution_count": null,
      "outputs": [
        {
          "output_type": "stream",
          "name": "stdout",
          "text": [
            "int64\n"
          ]
        }
      ]
    },
    {
      "cell_type": "markdown",
      "source": [
        "2.3.5 ตัวอย่างที่ 5 Creating Arrays With a Defined Data Type [เรียนรู้จาก](<https://www.w3schools.com/python/numpy/numpy_data_types.asp>)"
      ],
      "metadata": {
        "id": "TSw_eDVN6N24"
      }
    },
    {
      "cell_type": "code",
      "source": [
        "# ใส่ตัวอย่าง code ที่ได้เรียนรู้\n",
        "import numpy as np\n",
        "\n",
        "arr = np.array([1, 2, 3, 4], dtype='S')\n",
        "\n",
        "print(arr)\n",
        "print(arr.dtype)"
      ],
      "metadata": {
        "id": "iVNwYwr_6i_5",
        "colab": {
          "base_uri": "https://localhost:8080/"
        },
        "outputId": "6172ac2e-aeac-47a1-8a59-e8a9480f9f12"
      },
      "execution_count": null,
      "outputs": [
        {
          "output_type": "stream",
          "name": "stdout",
          "text": [
            "[b'1' b'2' b'3' b'4']\n",
            "|S1\n"
          ]
        }
      ]
    }
  ]
}